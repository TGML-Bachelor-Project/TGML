{
 "cells": [
  {
   "cell_type": "code",
   "execution_count": 21,
   "metadata": {},
   "outputs": [],
   "source": [
    "import numpy as np\n",
    "import pandas as pd"
   ]
  },
  {
   "cell_type": "code",
   "execution_count": 9,
   "metadata": {},
   "outputs": [
    {
     "name": "stdout",
     "output_type": "stream",
     "text": [
      "Length of reduced real life dataset: 329910\n"
     ]
    },
    {
     "data": {
      "text/plain": [
       "array([[5.82000000e+02, 3.64000000e+02, 0.00000000e+00],\n",
       "       [1.68000000e+02, 4.72000000e+02, 3.23725355e-02],\n",
       "       [1.68000000e+02, 9.12000000e+02, 3.82405639e-02],\n",
       "       ...,\n",
       "       [7.90000000e+02, 1.26000000e+02, 5.25503461e+02],\n",
       "       [7.82000000e+02, 1.26000000e+02, 5.25517280e+02],\n",
       "       [6.85000000e+02, 6.43000000e+02, 5.25520000e+02]])"
      ]
     },
     "execution_count": 9,
     "metadata": {},
     "output_type": "execute_result"
    }
   ],
   "source": [
    "### RL Dataset 1 edit\n",
    "\n",
    "dataset = np.genfromtxt('/home/augustsemrau/drive/bachelor/TGML/src/data/real/email_eu_core_temporal_og.csv', delimiter=' ')\n",
    "\n",
    "## Remove datapoints the lie faar out timewise\n",
    "dataset = dataset[dataset[:,2] < 5e7]\n",
    "print(f'Length of reduced real life dataset: {len(dataset)}')\n",
    "\n",
    "## Transform time-intervals\n",
    "t_min = min(dataset[:,2])\n",
    "t_max = max(dataset[:,2])\n",
    "dataset[:,2] =  525.52 * ((dataset[:,2] - t_min) / t_max)\n",
    "\n",
    "## Map node indices to the span of 0 to 986\n",
    "for i in range(len(np.unique([dataset[:,0],dataset[:,1]]))):\n",
    "    dataset[:,:2][dataset[:,:2].astype(int) == int(np.unique([dataset[:,0],dataset[:,1]])[i])] = i\n",
    "\n",
    "df = pd.DataFrame(data=dataset)\n",
    "df.to_csv('email_eu_core_temporal.csv', index=False, header=False)\n",
    "df"
   ]
  },
  {
   "cell_type": "code",
   "execution_count": 107,
   "metadata": {},
   "outputs": [],
   "source": [
    "### RL Dataset 2 edit\n",
    "dataset = pd.read_csv('/home/augustsemrau/drive/bachelor/TGML/src/data/real/resistance_game4_og.csv', header=None)\n",
    "\n",
    "## Convert into standard TDGN data format\n",
    "## Create node pairs\n",
    "pairs = []\n",
    "for i in list(dataset.iloc[0])[1:]:\n",
    "    pair = []\n",
    "    if len(i) > len('P1_TO_P1'):\n",
    "        pair.append(int(i[1]))\n",
    "        pair.append(int(0))\n",
    "    else:\n",
    "        \n",
    "        pair.append(int(i[1]))\n",
    "        pair.append(int(i[-1]))\n",
    "    pairs.append(pair)\n",
    "\n",
    "## Create desired dataset\n",
    "dataset_desired = []\n",
    "for row in range(1,dataset.shape[0]):\n",
    "    time = dataset.iloc[row][0]\n",
    "    for i in range(1, len(pairs)+1):\n",
    "        if int(dataset.iloc[row][i]) == 1:\n",
    "            interaction = []\n",
    "            interaction.append(pairs[i-1][0])\n",
    "            interaction.append(pairs[i-1][1])\n",
    "            interaction.append(time)\n",
    "            dataset_desired.append(interaction)\n",
    "\n",
    "df = pd.DataFrame(data=dataset_desired)\n",
    "df.to_csv('resistance_game4.csv', index=False, header=False)\n",
    "df\n"
   ]
  },
  {
   "cell_type": "code",
   "execution_count": null,
   "metadata": {},
   "outputs": [],
   "source": []
  }
 ],
 "metadata": {
  "interpreter": {
   "hash": "31f2aee4e71d21fbe5cf8b01ff0e069b9275f58929596ceb00d14d90e3e16cd6"
  },
  "kernelspec": {
   "display_name": "Python 3.8.10 64-bit",
   "language": "python",
   "name": "python3"
  },
  "language_info": {
   "codemirror_mode": {
    "name": "ipython",
    "version": 3
   },
   "file_extension": ".py",
   "mimetype": "text/x-python",
   "name": "python",
   "nbconvert_exporter": "python",
   "pygments_lexer": "ipython3",
   "version": "3.8.10"
  },
  "orig_nbformat": 4
 },
 "nbformat": 4,
 "nbformat_minor": 2
}
