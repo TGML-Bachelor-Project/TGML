{
 "cells": [
  {
   "cell_type": "code",
   "execution_count": 1,
   "metadata": {},
   "outputs": [],
   "source": [
    "import numpy as np\n",
    "import pandas as pd\n",
    "import matplotlib.pyplot as plt"
   ]
  },
  {
   "cell_type": "code",
   "execution_count": 21,
   "metadata": {},
   "outputs": [
    {
     "name": "stdout",
     "output_type": "stream",
     "text": [
      "Length of reduced real life dataset: 329910\n"
     ]
    },
    {
     "data": {
      "text/plain": [
       "525.5224305555556"
      ]
     },
     "execution_count": 21,
     "metadata": {},
     "output_type": "execute_result"
    }
   ],
   "source": [
    "### RL Dataset 1 edit\n",
    "\n",
    "dataset = np.genfromtxt('/home/augustsemrau/drive/bachelor/TGML/src/data/real/original_datasets/email_eu_core_temporal_og.csv', delimiter=' ')\n",
    "\n",
    "## Remove datapoints the lie faar out timewise\n",
    "dataset = dataset[dataset[:,2] < 5e7]\n",
    "print(f'Length of reduced real life dataset: {len(dataset)}')\n",
    "\n",
    "## Transform time-intervals\n",
    "t_min = min(dataset[:,2])\n",
    "t_max = max(dataset[:,2])\n",
    "# t_max / 60 / 60 / 24\n",
    "dataset[:,2] =  525.52 * ((dataset[:,2] - t_min) / t_max)\n",
    "\n",
    "## Map node indices to the span of 0 to 986\n",
    "for i in range(len(np.unique([dataset[:,0],dataset[:,1]]))):\n",
    "    dataset[:,:2][dataset[:,:2].astype(int) == int(np.unique([dataset[:,0],dataset[:,1]])[i])] = i\n",
    "\n",
    "df = pd.DataFrame(data=dataset)\n",
    "df.to_csv('email_eu_core_temporal.csv', index=False, header=False)\n",
    "df"
   ]
  },
  {
   "cell_type": "code",
   "execution_count": 23,
   "metadata": {},
   "outputs": [
    {
     "data": {
      "image/png": "[encoded data removed]",
      "text/plain": [
       "<Figure size 720x432 with 1 Axes>"
      ]
     },
     "metadata": {},
     "output_type": "display_data"
    }
   ],
   "source": [
    "## Plotting distribution of RL dataset 1\n",
    "dataset = np.genfromtxt('/home/augustsemrau/drive/bachelor/TGML/src/email_eu_core_temporal.csv', delimiter=',')\n",
    "\n",
    "event_times = dataset[:,2].tolist()\n",
    "fig, ax = plt.subplots(1,1, figsize=(10, 6), facecolor='w', edgecolor='k')\n",
    "ax.hist(event_times, bins = 100)\n",
    "ax.set_xlabel('Time in days')\n",
    "ax.set_ylabel('Frequency')\n",
    "ax.set_title('Interaction Distribution: EU Research Institution Email Correspondences')\n",
    "plt.show()"
   ]
  },
  {
   "cell_type": "code",
   "execution_count": 19,
   "metadata": {},
   "outputs": [
    {
     "data": {
      "text/html": [
       "<div>\n",
       "<style scoped>\n",
       "    .dataframe tbody tr th:only-of-type {\n",
       "        vertical-align: middle;\n",
       "    }\n",
       "\n",
       "    .dataframe tbody tr th {\n",
       "        vertical-align: top;\n",
       "    }\n",
       "\n",
       "    .dataframe thead th {\n",
       "        text-align: right;\n",
       "    }\n",
       "</style>\n",
       "<table border=\"1\" class=\"dataframe\">\n",
       "  <thead>\n",
       "    <tr style=\"text-align: right;\">\n",
       "      <th></th>\n",
       "      <th>0</th>\n",
       "      <th>1</th>\n",
       "      <th>2</th>\n",
       "    </tr>\n",
       "  </thead>\n",
       "  <tbody>\n",
       "    <tr>\n",
       "      <th>0</th>\n",
       "      <td>1.0</td>\n",
       "      <td>6.0</td>\n",
       "      <td>0.000000</td>\n",
       "    </tr>\n",
       "    <tr>\n",
       "      <th>1</th>\n",
       "      <td>2.0</td>\n",
       "      <td>6.0</td>\n",
       "      <td>0.000000</td>\n",
       "    </tr>\n",
       "    <tr>\n",
       "      <th>2</th>\n",
       "      <td>3.0</td>\n",
       "      <td>2.0</td>\n",
       "      <td>0.000000</td>\n",
       "    </tr>\n",
       "    <tr>\n",
       "      <th>3</th>\n",
       "      <td>4.0</td>\n",
       "      <td>6.0</td>\n",
       "      <td>0.000000</td>\n",
       "    </tr>\n",
       "    <tr>\n",
       "      <th>4</th>\n",
       "      <td>5.0</td>\n",
       "      <td>7.0</td>\n",
       "      <td>0.000000</td>\n",
       "    </tr>\n",
       "    <tr>\n",
       "      <th>...</th>\n",
       "      <td>...</td>\n",
       "      <td>...</td>\n",
       "      <td>...</td>\n",
       "    </tr>\n",
       "    <tr>\n",
       "      <th>58579</th>\n",
       "      <td>4.0</td>\n",
       "      <td>6.0</td>\n",
       "      <td>40.677778</td>\n",
       "    </tr>\n",
       "    <tr>\n",
       "      <th>58580</th>\n",
       "      <td>5.0</td>\n",
       "      <td>7.0</td>\n",
       "      <td>40.677778</td>\n",
       "    </tr>\n",
       "    <tr>\n",
       "      <th>58581</th>\n",
       "      <td>6.0</td>\n",
       "      <td>2.0</td>\n",
       "      <td>40.677778</td>\n",
       "    </tr>\n",
       "    <tr>\n",
       "      <th>58582</th>\n",
       "      <td>7.0</td>\n",
       "      <td>6.0</td>\n",
       "      <td>40.677778</td>\n",
       "    </tr>\n",
       "    <tr>\n",
       "      <th>58583</th>\n",
       "      <td>8.0</td>\n",
       "      <td>7.0</td>\n",
       "      <td>40.677778</td>\n",
       "    </tr>\n",
       "  </tbody>\n",
       "</table>\n",
       "<p>58584 rows × 3 columns</p>\n",
       "</div>"
      ],
      "text/plain": [
       "         0    1          2\n",
       "0      1.0  6.0   0.000000\n",
       "1      2.0  6.0   0.000000\n",
       "2      3.0  2.0   0.000000\n",
       "3      4.0  6.0   0.000000\n",
       "4      5.0  7.0   0.000000\n",
       "...    ...  ...        ...\n",
       "58579  4.0  6.0  40.677778\n",
       "58580  5.0  7.0  40.677778\n",
       "58581  6.0  2.0  40.677778\n",
       "58582  7.0  6.0  40.677778\n",
       "58583  8.0  7.0  40.677778\n",
       "\n",
       "[58584 rows x 3 columns]"
      ]
     },
     "execution_count": 19,
     "metadata": {},
     "output_type": "execute_result"
    }
   ],
   "source": [
    "### RL Dataset 2 edit\n",
    "dataset = pd.read_csv('/home/augustsemrau/drive/bachelor/TGML/src/data/real/resistance_game4_og.csv', header=None)\n",
    "\n",
    "## Convert into standard TDGN data format\n",
    "## Create node pairs\n",
    "pairs = []\n",
    "for i in list(dataset.iloc[0])[1:]:\n",
    "    pair = []\n",
    "    if len(i) > len('P1_TO_P1'):\n",
    "        pair.append(int(i[1]))\n",
    "        pair.append(int(0))\n",
    "    else:\n",
    "        \n",
    "        pair.append(int(i[1]))\n",
    "        pair.append(int(i[-1]))\n",
    "    pairs.append(pair)\n",
    "\n",
    "## Create desired dataset\n",
    "dataset_desired = []\n",
    "for row in range(1,dataset.shape[0]):\n",
    "    time = dataset.iloc[row][0]\n",
    "    for i in range(1, len(pairs)+1):\n",
    "        if int(dataset.iloc[row][i]) == 1:\n",
    "            interaction = []\n",
    "            interaction.append(pairs[i-1][0])\n",
    "            interaction.append(pairs[i-1][1])\n",
    "            interaction.append(time)\n",
    "            dataset_desired.append(interaction)\n",
    "\n",
    "\n",
    "## Transform time-intervals\n",
    "dataset_desired = np.array(dataset_desired, dtype=np.float64)\n",
    "t_min = min(dataset_desired[:,2])\n",
    "t_max = max(dataset_desired[:,2])\n",
    "dataset_desired[:,2] =  ((t_max / 60) / 3) * ((dataset_desired[:,2] - t_min) / t_max)\n",
    "\n",
    "df = pd.DataFrame(data=dataset_desired)\n",
    "df.to_csv('resistance_game4.csv', index=False, header=False)\n",
    "df\n"
   ]
  },
  {
   "cell_type": "code",
   "execution_count": 18,
   "metadata": {},
   "outputs": [
    {
     "data": {
      "image/png": "[encoded data removed]",
      "text/plain": [
       "<Figure size 1440x432 with 1 Axes>"
      ]
     },
     "metadata": {},
     "output_type": "display_data"
    }
   ],
   "source": [
    "dataset = np.genfromtxt('/home/augustsemrau/drive/bachelor/TGML/src/resistance_game4.csv', delimiter=',')\n",
    "event_times = dataset[:,2].tolist()\n",
    "fig, ax = plt.subplots(1,1, figsize=(10, 6), facecolor='w', edgecolor='k')\n",
    "ax.hist(event_times, bins = 1000)\n",
    "ax.set_xlabel('Time in minutes')\n",
    "ax.set_ylabel('Frequency')\n",
    "ax.set_title('Interaction Distribution: Resistance Game 4 ')\n",
    "plt.show()"
   ]
  },
  {
   "cell_type": "code",
   "execution_count": 113,
   "metadata": {},
   "outputs": [],
   "source": [
    "### RL dataset 3 edit\n",
    "dataset_og = np.genfromtxt('/home/augustsemrau/drive/bachelor/TGML/src/data/real/original_datasets/tij_pres_LyonSchool_og.csv', delimiter=' ')\n",
    "\n",
    "## Remove datapoints the lie faar out timewise\n",
    "dataset = np.copy(dataset_og)\n",
    "dataset[:,0], dataset[:,1], dataset[:,2] = dataset_og[:,1], dataset_og[:,2], dataset_og[:,0]\n",
    "dataset = dataset[dataset[:,2] < 80000]\n",
    "\n",
    "## Transform time-intervals\n",
    "t_min = min(dataset[:,2])\n",
    "t_max = max(dataset[:,2])\n",
    "dataset[:,2] =  (((t_max-t_min) / (3*60))) * ((dataset[:,2] - t_min) / t_max)\n",
    "\n",
    "## Remove nodes not in the reduced dataset from metadata\n",
    "meta_dataset = pd.read_csv('/home/augustsemrau/drive/bachelor/TGML/src/data/real/original_datasets/metadata_LyonSchool_og.csv', delimiter='\t', header=None)\n",
    "meta_dataset = meta_dataset.values.tolist()\n",
    "\n",
    "meta_dataset_reduced = []\n",
    "for row in meta_dataset:\n",
    "    if int(row[0]) in list(np.unique([dataset[:,0],dataset[:,1]])):\n",
    "        meta_dataset_reduced.append([int(row[0]), str(row[1])])\n",
    "\n",
    "meta_dataset_reduced_array = np.array(meta_dataset_reduced)\n",
    "\n",
    "## Map node class to int\n",
    "class_dict = {}\n",
    "for i in range(len(np.unique(meta_dataset_reduced_array[:,1]))):\n",
    "    class_dict[np.unique(meta_dataset_reduced_array[:,1])[i]] = i\n",
    "\n",
    "meta_dataset_reduced_array[:,1] = [class_dict[class_name] for class_name in meta_dataset_reduced_array[:,1]]\n",
    "meta_dataset_reduced_array = meta_dataset_reduced_array.astype('int')\n",
    "\n",
    "## Map node indices to the span of 0 to 236\n",
    "indexes = np.copy(np.unique([dataset[:,0],dataset[:,1]]))\n",
    "for i in range(len(indexes)):\n",
    "    dataset[:,:2][dataset[:,:2].astype(int) == int(indexes[i])] = i\n",
    "    meta_dataset_reduced_array[:,0][meta_dataset_reduced_array[:,0].astype(int) == int(indexes[i])] = i\n",
    "\n",
    "## Map back to class string\n",
    "class_dict_reverse = {}\n",
    "for i in class_dict.items():\n",
    "    class_dict_reverse[i[1]] = i[0]\n",
    "\n",
    "meta_dataset_reduced_list = meta_dataset_reduced_array.tolist()\n",
    "for row in meta_dataset_reduced_list:\n",
    "    row[1] = class_dict_reverse[row[1]]\n",
    "\n",
    "## Save to csv\n",
    "df = pd.DataFrame(data=dataset)\n",
    "df_meta = pd.DataFrame(data=meta_dataset_reduced_list)\n",
    "df.to_csv('tij_pres_LyonSchool.csv', index=False, header=False)\n",
    "df_meta.to_csv('metadata_LyonSchool.csv', index=False, header=False)"
   ]
  },
  {
   "cell_type": "code",
   "execution_count": 125,
   "metadata": {},
   "outputs": [
    {
     "data": {
      "image/png": "[encoded data removed]",
      "text/plain": [
       "<Figure size 1440x432 with 1 Axes>"
      ]
     },
     "metadata": {},
     "output_type": "display_data"
    }
   ],
   "source": [
    "dataset = np.genfromtxt('/home/augustsemrau/drive/bachelor/TGML/src/data/real/edited_datasets/tij_pres_LyonSchool.csv', delimiter=',')\n",
    "event_times = dataset[:,2].tolist()\n",
    "fig, ax = plt.subplots(1,1, figsize=(20, 6), facecolor='w', edgecolor='k')\n",
    "ax.hist(event_times, bins = 300)\n",
    "ax.set_xlabel('Time in Hours')\n",
    "ax.set_ylabel('Frequency')\n",
    "ax.set_title('Interaction Distribution: Lyon Primary School')\n",
    "plt.show()"
   ]
  }
 ],
 "metadata": {
  "interpreter": {
   "hash": "31f2aee4e71d21fbe5cf8b01ff0e069b9275f58929596ceb00d14d90e3e16cd6"
  },
  "kernelspec": {
   "display_name": "Python 3.8.10 64-bit",
   "language": "python",
   "name": "python3"
  },
  "language_info": {
   "codemirror_mode": {
    "name": "ipython",
    "version": 3
   },
   "file_extension": ".py",
   "mimetype": "text/x-python",
   "name": "python",
   "nbconvert_exporter": "python",
   "pygments_lexer": "ipython3",
   "version": "3.8.10"
  },
  "orig_nbformat": 4
 },
 "nbformat": 4,
 "nbformat_minor": 2
}
