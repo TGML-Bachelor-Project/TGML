{
 "cells": [
  {
   "cell_type": "code",
   "execution_count": 1,
   "metadata": {},
   "outputs": [],
   "source": [
    "import torch\n"
   ]
  },
  {
   "cell_type": "code",
   "execution_count": 3,
   "metadata": {},
   "outputs": [],
   "source": [
    "    # z0 = torch.load(os.path.join(load_folder, 'result_z0_v0', 'final_z0_lyon_fulldata.pt'), map_location=torch.device('cpu'))\n",
    "    v0 = torch.load('/home/augustsemrau/drive/bachelor/TGML/src/wandb/run-20211119_131913-1x37zfjh/files/final_v0.pt', map_location=torch.device('cpu'))\n",
    "    "
   ]
  },
  {
   "cell_type": "code",
   "execution_count": 4,
   "metadata": {},
   "outputs": [
    {
     "data": {
      "text/plain": [
       "tensor([[[ 1.7208, -1.3230,  0.0928,  ...,  3.1949, -2.5255,  2.4216],\n",
       "         [-0.2397, -1.4341, -0.9292,  ..., -2.3802,  3.2586, -5.6768]],\n",
       "\n",
       "        [[-4.1255,  3.7769, -4.9414,  ...,  0.0952,  0.7851, -2.2064],\n",
       "         [ 3.4010, -3.1117, -1.1127,  ...,  4.2499, -5.4714,  1.1339]],\n",
       "\n",
       "        [[-1.0407,  0.8548,  0.2505,  ...,  1.9279, -1.9279, -0.4046],\n",
       "         [-3.0366,  3.8033, -0.7053,  ...,  2.1372, -1.4222,  1.4807]],\n",
       "\n",
       "        ...,\n",
       "\n",
       "        [[ 0.9974, -2.2485,  3.9383,  ..., -1.2320, -1.4771,  2.6492],\n",
       "         [ 3.5671, -4.1292,  1.9515,  ..., -2.7256,  2.3025, -0.2684]],\n",
       "\n",
       "        [[ 0.0914, -3.3672,  3.6611,  ...,  2.8108, -3.0777,  4.6235],\n",
       "         [ 0.6145, -0.3083, -2.0176,  ...,  0.2137, -1.5435,  3.3631]],\n",
       "\n",
       "        [[-2.1304,  5.1234, -2.2223,  ..., -2.5365,  5.9486, -1.9152],\n",
       "         [ 1.5669,  2.9702, -2.6386,  ..., -4.2359, -0.1279,  5.4722]]])"
      ]
     },
     "execution_count": 4,
     "metadata": {},
     "output_type": "execute_result"
    }
   ],
   "source": [
    "v0"
   ]
  },
  {
   "cell_type": "code",
   "execution_count": 6,
   "metadata": {},
   "outputs": [
    {
     "data": {
      "text/plain": [
       "tensor([[[ 1.8406e+00, -7.3688e-01,  5.0264e-03,  ...,  3.1252e+00,\n",
       "          -1.8847e+00,  2.2992e+00],\n",
       "         [-1.0865e-01, -1.0439e+00, -9.0236e-01,  ..., -2.5388e+00,\n",
       "           3.0142e+00, -5.4616e+00]],\n",
       "\n",
       "        [[-4.0067e+00,  4.3647e+00, -5.0321e+00,  ...,  2.1025e-02,\n",
       "           1.4252e+00, -2.3225e+00],\n",
       "         [ 3.5327e+00, -2.7175e+00, -1.0802e+00,  ...,  4.0847e+00,\n",
       "          -5.7154e+00,  1.3468e+00]],\n",
       "\n",
       "        [[-9.1557e-01,  1.4436e+00,  1.6229e-01,  ...,  1.8636e+00,\n",
       "          -1.2821e+00, -5.3234e-01],\n",
       "         [-2.8996e+00,  4.2000e+00, -6.7691e-01,  ...,  1.9752e+00,\n",
       "          -1.6647e+00,  1.7039e+00]],\n",
       "\n",
       "        ...,\n",
       "\n",
       "        [[ 1.1141e+00, -1.6605e+00,  3.8466e+00,  ..., -1.2978e+00,\n",
       "          -8.3482e-01,  2.5252e+00],\n",
       "         [ 3.6977e+00, -3.7397e+00,  1.9855e+00,  ..., -2.8867e+00,\n",
       "           2.0559e+00, -5.0889e-02]],\n",
       "\n",
       "        [[ 2.1296e-01, -2.7760e+00,  3.5748e+00,  ...,  2.7510e+00,\n",
       "          -2.4355e+00,  4.5034e+00],\n",
       "         [ 7.5134e-01,  8.4419e-02, -1.9844e+00,  ...,  4.9520e-02,\n",
       "          -1.7847e+00,  3.5780e+00]],\n",
       "\n",
       "        [[-2.0110e+00,  5.7091e+00, -2.3156e+00,  ..., -2.6117e+00,\n",
       "           6.5921e+00, -2.0320e+00],\n",
       "         [ 1.6999e+00,  3.3638e+00, -2.6018e+00,  ..., -4.3992e+00,\n",
       "          -3.7668e-01,  5.6921e+00]]])"
      ]
     },
     "execution_count": 6,
     "metadata": {},
     "output_type": "execute_result"
    }
   ],
   "source": [
    "\n",
    "    v0 = torch.load('/home/augustsemrau/drive/bachelor/TGML/src/wandb/run-20211119_141041-2jspckf8/files/final_v0.pt', map_location=torch.device('cpu'))\n",
    "    v0"
   ]
  }
 ],
 "metadata": {
  "interpreter": {
   "hash": "31f2aee4e71d21fbe5cf8b01ff0e069b9275f58929596ceb00d14d90e3e16cd6"
  },
  "kernelspec": {
   "display_name": "Python 3.8.10 64-bit",
   "language": "python",
   "name": "python3"
  },
  "language_info": {
   "codemirror_mode": {
    "name": "ipython",
    "version": 3
   },
   "file_extension": ".py",
   "mimetype": "text/x-python",
   "name": "python",
   "nbconvert_exporter": "python",
   "pygments_lexer": "ipython3",
   "version": "3.8.10"
  },
  "orig_nbformat": 4
 },
 "nbformat": 4,
 "nbformat_minor": 2
}
