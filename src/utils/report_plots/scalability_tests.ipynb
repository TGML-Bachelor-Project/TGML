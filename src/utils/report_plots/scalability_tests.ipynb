{
 "cells": [
  {
   "cell_type": "code",
   "execution_count": null,
   "metadata": {},
   "outputs": [],
   "source": []
  },
  {
   "cell_type": "markdown",
   "metadata": {},
   "source": [
    "# Testing node count\n",
    "python3 main.py -seed 1 -device cpu -LR 0.025 -NE 100 -TBS 0 -RD 0 -DS 3 -TT 0 -VEC 2 -T1 0 -T2 0 -steps 3 -ani -WE augustsemrau -WP TGMLRQ2 -WRN nodes4_steps4_beta5\n",
    "\n",
    "\n",
    "\n",
    "\n"
   ]
  }
 ],
 "metadata": {
  "language_info": {
   "name": "python"
  },
  "orig_nbformat": 4
 },
 "nbformat": 4,
 "nbformat_minor": 2
}
